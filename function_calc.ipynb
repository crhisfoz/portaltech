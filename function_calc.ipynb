{
  "nbformat": 4,
  "nbformat_minor": 0,
  "metadata": {
    "colab": {
      "provenance": [],
      "authorship_tag": "ABX9TyMRGLwmr1g+JfGKxU32ikFt",
      "include_colab_link": true
    },
    "kernelspec": {
      "name": "python3",
      "display_name": "Python 3"
    },
    "language_info": {
      "name": "python"
    }
  },
  "cells": [
    {
      "cell_type": "markdown",
      "metadata": {
        "id": "view-in-github",
        "colab_type": "text"
      },
      "source": [
        "<a href=\"https://colab.research.google.com/github/crhisfoz/portaltech/blob/main/function_calc.ipynb\" target=\"_parent\"><img src=\"https://colab.research.google.com/assets/colab-badge.svg\" alt=\"Open In Colab\"/></a>"
      ]
    },
    {
      "cell_type": "code",
      "execution_count": null,
      "metadata": {
        "id": "h7HWnUpWYGiQ"
      },
      "outputs": [],
      "source": [
        "def calc_number(num1, num2, operation_number):\n",
        "    add = num1 + num2\n",
        "    sub = num1 - num2\n",
        "    mult = num1 * num2\n",
        "    div = num1 / num2\n",
        "\n",
        "    if operation_number == 1:\n",
        "        print(add)\n",
        "    elif operation_number == 2:\n",
        "        print(sub)\n",
        "    elif operation_number == 3:\n",
        "        print(mult)\n",
        "    elif operation_number == 4:\n",
        "        print(div)\n",
        "    else:\n",
        "        print(0)\n",
        "\n",
        "\n",
        "calc_number(4, 2, 3)\n",
        "\n"
      ]
    }
  ]
}