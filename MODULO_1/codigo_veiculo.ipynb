{
 "cells": [
  {
   "cell_type": "code",
   "execution_count": 8,
   "metadata": {},
   "outputs": [
    {
     "name": "stdout",
     "output_type": "stream",
     "text": [
      "This vehicle belongs to category D\n"
     ]
    }
   ],
   "source": [
    "qnty_rodas = 4\n",
    "gross_weight = 8500\n",
    "qnty_people = 6\n",
    "\n",
    "if (qnty_rodas == 2 or qnty_rodas == 3):\n",
    "    print('This vehicle belongs to category A')\n",
    "elif(qnty_rodas == 4 and qnty_people <= 8 and gross_weight <= 3500):\n",
    "    print('This vehicle belongs to category B')\n",
    "elif( qnty_rodas >= 4 and gross_weight >= 3500 and  gross_weight <= 6000):\n",
    "    print('This vehicle belongs to category C')\n",
    "else:\n",
    "    print('This vehicle belongs to category D')\n",
    "\n"
   ]
  }
 ],
 "metadata": {
  "kernelspec": {
   "display_name": "Python 3.10.0 64-bit",
   "language": "python",
   "name": "python3"
  },
  "language_info": {
   "codemirror_mode": {
    "name": "ipython",
    "version": 3
   },
   "file_extension": ".py",
   "mimetype": "text/x-python",
   "name": "python",
   "nbconvert_exporter": "python",
   "pygments_lexer": "ipython3",
   "version": "3.10.0"
  },
  "orig_nbformat": 4,
  "vscode": {
   "interpreter": {
    "hash": "369f2c481f4da34e4445cda3fffd2e751bd1c4d706f27375911949ba6bb62e1c"
   }
  }
 },
 "nbformat": 4,
 "nbformat_minor": 2
}
