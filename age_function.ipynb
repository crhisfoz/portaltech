{
  "nbformat": 4,
  "nbformat_minor": 0,
  "metadata": {
    "colab": {
      "provenance": [],
      "collapsed_sections": [],
      "authorship_tag": "ABX9TyNI4KzCV6JKX8vdbuPbW/+D",
      "include_colab_link": true
    },
    "kernelspec": {
      "name": "python3",
      "display_name": "Python 3"
    },
    "language_info": {
      "name": "python"
    }
  },
  "cells": [
    {
      "cell_type": "markdown",
      "metadata": {
        "id": "view-in-github",
        "colab_type": "text"
      },
      "source": [
        "<a href=\"https://colab.research.google.com/github/crhisfoz/portaltech/blob/main/age_function.ipynb\" target=\"_parent\"><img src=\"https://colab.research.google.com/assets/colab-badge.svg\" alt=\"Open In Colab\"/></a>"
      ]
    },
    {
      "cell_type": "code",
      "execution_count": null,
      "metadata": {
        "id": "TIjYDChH0OrE"
      },
      "outputs": [],
      "source": [
        "from datetime import date\n",
        "\n",
        "\n",
        "def age_function():\n",
        "    name = input(\"What´s your full name?: \")\n",
        "    birth_year = int(input(\"What´s your birth year?: \"))\n",
        "\n",
        "    if (birth_year < 1922) or (birth_year > 2021):\n",
        "        print(\" Must be a year between '1922 and 2021' \", )\n",
        "        count = False\n",
        "    else:\n",
        "        count = True\n",
        "    while not count:\n",
        "        again()\n",
        "        print(count)\n",
        "\n",
        "    today = date.today()\n",
        "    age = today.year - birth_year\n",
        "    print(\"Your name is\", name, \"and your age is\", age)\n",
        "\n",
        "\n",
        "def again():\n",
        "    birth_year = int(input(\"What´s your birth year?: \"))\n",
        "    return birth_year\n",
        "\n",
        "\n",
        "age_function()\n"
      ]
    }
  ]
}