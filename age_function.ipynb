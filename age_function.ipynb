{
  "nbformat": 4,
  "nbformat_minor": 0,
  "metadata": {
    "colab": {
      "provenance": [],
      "collapsed_sections": [],
      "authorship_tag": "ABX9TyOXxMpubG70R8VZ5XdUYkbs",
      "include_colab_link": true
    },
    "kernelspec": {
      "name": "python3",
      "display_name": "Python 3"
    },
    "language_info": {
      "name": "python"
    }
  },
  "cells": [
    {
      "cell_type": "markdown",
      "metadata": {
        "id": "view-in-github",
        "colab_type": "text"
      },
      "source": [
        "<a href=\"https://colab.research.google.com/github/crhisfoz/portaltech/blob/main/age_function.ipynb\" target=\"_parent\"><img src=\"https://colab.research.google.com/assets/colab-badge.svg\" alt=\"Open In Colab\"/></a>"
      ]
    },
    {
      "cell_type": "code",
      "execution_count": null,
      "metadata": {
        "id": "TIjYDChH0OrE"
      },
      "outputs": [],
      "source": [
        "from datetime import date\n",
        "\n",
        "\n",
        "def age_function():\n",
        "    name = input(\"What´s your full name?: \")\n",
        "    is_valid = False\n",
        "\n",
        "    while not is_valid:\n",
        "\n",
        "        try:\n",
        "            birth_year = int(input(\"What´s your birth year?: \"))\n",
        "            today = date.today()\n",
        "            age = today.year - birth_year\n",
        "            if (birth_year > 1922) and (birth_year < 2021):\n",
        "                print(\"Your name is\", name, \"and your age is\", age)\n",
        "                is_valid = True\n",
        "            else:\n",
        "                print(\" Must be a year between '1922 and 2021' \")\n",
        "        except:\n",
        "            print(\"Must be a number and not a character\")\n",
        "\n",
        "\n",
        "age_function()\n"
      ]
    }
  ]
}